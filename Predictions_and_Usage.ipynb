{
  "nbformat": 4,
  "nbformat_minor": 0,
  "metadata": {
    "colab": {
      "provenance": [],
      "authorship_tag": "ABX9TyMsYTrH7HJTlGPKKoTfJRWy",
      "include_colab_link": true
    },
    "kernelspec": {
      "name": "python3",
      "display_name": "Python 3"
    },
    "language_info": {
      "name": "python"
    }
  },
  "cells": [
    {
      "cell_type": "markdown",
      "metadata": {
        "id": "view-in-github",
        "colab_type": "text"
      },
      "source": [
        "<a href=\"https://colab.research.google.com/github/MNagaSaiGanesh/Human-Stress-Detection/blob/main/Predictions_and_Usage.ipynb\" target=\"_parent\"><img src=\"https://colab.research.google.com/assets/colab-badge.svg\" alt=\"Open In Colab\"/></a>"
      ]
    },
    {
      "cell_type": "code",
      "source": [
        "from sklearn.preprocessing import StandardScaler\n",
        "import joblib\n",
        "\n",
        "# Assuming X_train is the data you used for training\n",
        "scaler = StandardScaler()\n",
        "X_train_scaled = scaler.fit_transform(X_train)\n",
        "\n",
        "# Save the scaler for later use\n",
        "joblib.dump(scaler, 'scaler.pkl')\n",
        "\n",
        "# Now save your trained model\n",
        "model.save('stress_detection_model.h5')\n"
      ],
      "metadata": {
        "colab": {
          "base_uri": "https://localhost:8080/"
        },
        "id": "bVi2AWBUUUKm",
        "outputId": "ddeb5f2a-595e-4825-d510-f7cca147ec66"
      },
      "execution_count": 11,
      "outputs": [
        {
          "output_type": "stream",
          "name": "stderr",
          "text": [
            "WARNING:absl:You are saving your model as an HDF5 file via `model.save()` or `keras.saving.save_model(model)`. This file format is considered legacy. We recommend using instead the native Keras format, e.g. `model.save('my_model.keras')` or `keras.saving.save_model(model, 'my_model.keras')`. \n"
          ]
        }
      ]
    },
    {
      "cell_type": "code",
      "source": [
        "import joblib\n",
        "import tensorflow as tf\n",
        "import numpy as np\n",
        "from flask import Flask, request, jsonify\n",
        "import warnings\n",
        "\n",
        "# Suppress specific warning if you're only making predictions\n",
        "warnings.filterwarnings(\"ignore\", category=UserWarning, message=\"Compiled the loaded model.*\")\n",
        "\n",
        "# Load the trained model and scaler\n",
        "model = tf.keras.models.load_model('stress_detection_model.h5')\n",
        "\n",
        "# Recompile the model (only if you need metrics, otherwise you can skip this)\n",
        "model.compile(optimizer='adam', loss='binary_crossentropy', metrics=['accuracy'])\n",
        "\n",
        "# Load the scaler (make sure this file exists and was saved earlier)\n",
        "scaler = joblib.load('scaler.pkl')\n",
        "\n",
        "# Initialize Flask app\n",
        "app = Flask(__name__)\n",
        "\n",
        "@app.route('/predict', methods=['POST'])\n",
        "def predict():\n",
        "    data = request.get_json()  # Get input data from the request\n",
        "    input_data = np.array(data['features']).reshape(1, -1)  # Reshape to 2D array\n",
        "\n",
        "    # Apply the same scaling transformation to the input data\n",
        "    input_data_scaled = scaler.transform(input_data)\n",
        "\n",
        "    # Make a prediction\n",
        "    prediction = model.predict(input_data_scaled)\n",
        "\n",
        "    # Convert to binary prediction (0 or 1)\n",
        "    stress_level = (prediction > 0.5).astype(int)\n",
        "\n",
        "    return jsonify({'stress_level': stress_level[0][0]})\n",
        "\n",
        "if __name__ == '__main__':\n",
        "    # Start the Flask application\n",
        "    app.run(debug=True)\n"
      ],
      "metadata": {
        "colab": {
          "base_uri": "https://localhost:8080/"
        },
        "id": "0ya7TQ6VUwcs",
        "outputId": "da8caddd-ed7d-40de-d626-72c4b12407ca"
      },
      "execution_count": 14,
      "outputs": [
        {
          "output_type": "stream",
          "name": "stderr",
          "text": [
            "WARNING:absl:Compiled the loaded model, but the compiled metrics have yet to be built. `model.compile_metrics` will be empty until you train or evaluate the model.\n"
          ]
        },
        {
          "output_type": "stream",
          "name": "stdout",
          "text": [
            " * Serving Flask app '__main__'\n",
            " * Debug mode: on\n"
          ]
        },
        {
          "output_type": "stream",
          "name": "stderr",
          "text": [
            "INFO:werkzeug:\u001b[31m\u001b[1mWARNING: This is a development server. Do not use it in a production deployment. Use a production WSGI server instead.\u001b[0m\n",
            " * Running on http://127.0.0.1:5000\n",
            "INFO:werkzeug:\u001b[33mPress CTRL+C to quit\u001b[0m\n",
            "INFO:werkzeug: * Restarting with stat\n"
          ]
        }
      ]
    }
  ]
}